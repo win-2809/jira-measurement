{
 "cells": [
  {
   "cell_type": "code",
   "execution_count": 1,
   "source": [
    "import pandas as pd \r\n",
    "import numpy as np\r\n",
    "\r\n",
    "df = pd.read_csv('sample/gridly_feedback.csv')\r\n",
    "df.head()"
   ],
   "outputs": [
    {
     "output_type": "execute_result",
     "data": {
      "text/html": [
       "<div>\n",
       "<style scoped>\n",
       "    .dataframe tbody tr th:only-of-type {\n",
       "        vertical-align: middle;\n",
       "    }\n",
       "\n",
       "    .dataframe tbody tr th {\n",
       "        vertical-align: top;\n",
       "    }\n",
       "\n",
       "    .dataframe thead th {\n",
       "        text-align: right;\n",
       "    }\n",
       "</style>\n",
       "<table border=\"1\" class=\"dataframe\">\n",
       "  <thead>\n",
       "    <tr style=\"text-align: right;\">\n",
       "      <th></th>\n",
       "      <th>Customer Name</th>\n",
       "      <th>Customer feedback</th>\n",
       "      <th>Feedback code</th>\n",
       "      <th>Feedback main theme</th>\n",
       "      <th>Feedback Secondary theme</th>\n",
       "      <th>Feedback type</th>\n",
       "      <th>Feedback submitted</th>\n",
       "    </tr>\n",
       "  </thead>\n",
       "  <tbody>\n",
       "    <tr>\n",
       "      <th>0</th>\n",
       "      <td>Scopely</td>\n",
       "      <td>TM fuzzy matching, including 101% (order match...</td>\n",
       "      <td>TM fuzzy matching</td>\n",
       "      <td>[\"Translation memory\"]</td>\n",
       "      <td>NaN</td>\n",
       "      <td>Feature request</td>\n",
       "      <td>2020-09-13T17:00:00Z</td>\n",
       "    </tr>\n",
       "    <tr>\n",
       "      <th>1</th>\n",
       "      <td>Scopely</td>\n",
       "      <td>Glossaries (terminology) support</td>\n",
       "      <td>Glossary support</td>\n",
       "      <td>[\"Glossary/Term\"]</td>\n",
       "      <td>NaN</td>\n",
       "      <td>Feature request</td>\n",
       "      <td>2020-09-13T17:00:00Z</td>\n",
       "    </tr>\n",
       "    <tr>\n",
       "      <th>2</th>\n",
       "      <td>Scopely</td>\n",
       "      <td>Be able to export and import translations in m...</td>\n",
       "      <td>One-file multi-language export</td>\n",
       "      <td>[\"Export\"]</td>\n",
       "      <td>NaN</td>\n",
       "      <td>Feature request</td>\n",
       "      <td>2020-09-13T17:00:00Z</td>\n",
       "    </tr>\n",
       "    <tr>\n",
       "      <th>3</th>\n",
       "      <td>Scopely</td>\n",
       "      <td>Be able to read/write from a specific branch v...</td>\n",
       "      <td>Read/write from specific branch via API</td>\n",
       "      <td>[\"Branch\"]</td>\n",
       "      <td>API</td>\n",
       "      <td>Feature request</td>\n",
       "      <td>2020-09-13T17:00:00Z</td>\n",
       "    </tr>\n",
       "    <tr>\n",
       "      <th>4</th>\n",
       "      <td>Scopely</td>\n",
       "      <td>More elaborate comments system, with a overvie...</td>\n",
       "      <td>Comments overview section</td>\n",
       "      <td>[\"Comments\"]</td>\n",
       "      <td>NaN</td>\n",
       "      <td>Feature request</td>\n",
       "      <td>2020-09-13T17:00:00Z</td>\n",
       "    </tr>\n",
       "  </tbody>\n",
       "</table>\n",
       "</div>"
      ],
      "text/plain": [
       "  Customer Name                                  Customer feedback  \\\n",
       "0       Scopely  TM fuzzy matching, including 101% (order match...   \n",
       "1       Scopely                   Glossaries (terminology) support   \n",
       "2       Scopely  Be able to export and import translations in m...   \n",
       "3       Scopely  Be able to read/write from a specific branch v...   \n",
       "4       Scopely  More elaborate comments system, with a overvie...   \n",
       "\n",
       "                             Feedback code     Feedback main theme  \\\n",
       "0                        TM fuzzy matching  [\"Translation memory\"]   \n",
       "1                        Glossary support        [\"Glossary/Term\"]   \n",
       "2           One-file multi-language export              [\"Export\"]   \n",
       "3  Read/write from specific branch via API              [\"Branch\"]   \n",
       "4                Comments overview section            [\"Comments\"]   \n",
       "\n",
       "  Feedback Secondary theme    Feedback type    Feedback submitted  \n",
       "0                      NaN  Feature request  2020-09-13T17:00:00Z  \n",
       "1                      NaN  Feature request  2020-09-13T17:00:00Z  \n",
       "2                      NaN  Feature request  2020-09-13T17:00:00Z  \n",
       "3                      API  Feature request  2020-09-13T17:00:00Z  \n",
       "4                      NaN  Feature request  2020-09-13T17:00:00Z  "
      ]
     },
     "metadata": {},
     "execution_count": 1
    }
   ],
   "metadata": {}
  },
  {
   "cell_type": "code",
   "execution_count": 2,
   "source": [
    "drop_list = ['Feedback code', 'Feedback main theme', 'Feedback Secondary theme', 'Feedback submitted']\r\n",
    "df = df.drop(columns=drop_list)\r\n",
    "df = df.dropna()\r\n",
    "df['feedback_id'] = df['Feedback type'].factorize()[0]\r\n",
    "feedback_id_df = df[['Feedback type', 'feedback_id']].drop_duplicates().sort_values('feedback_id')\r\n",
    "feedback_to_id = dict(feedback_id_df.values)\r\n",
    "id_to_feedback = dict(feedback_id_df[['feedback_id', 'Feedback type']].values)\r\n",
    "df.head()"
   ],
   "outputs": [
    {
     "output_type": "execute_result",
     "data": {
      "text/html": [
       "<div>\n",
       "<style scoped>\n",
       "    .dataframe tbody tr th:only-of-type {\n",
       "        vertical-align: middle;\n",
       "    }\n",
       "\n",
       "    .dataframe tbody tr th {\n",
       "        vertical-align: top;\n",
       "    }\n",
       "\n",
       "    .dataframe thead th {\n",
       "        text-align: right;\n",
       "    }\n",
       "</style>\n",
       "<table border=\"1\" class=\"dataframe\">\n",
       "  <thead>\n",
       "    <tr style=\"text-align: right;\">\n",
       "      <th></th>\n",
       "      <th>Customer Name</th>\n",
       "      <th>Customer feedback</th>\n",
       "      <th>Feedback type</th>\n",
       "      <th>feedback_id</th>\n",
       "    </tr>\n",
       "  </thead>\n",
       "  <tbody>\n",
       "    <tr>\n",
       "      <th>0</th>\n",
       "      <td>Scopely</td>\n",
       "      <td>TM fuzzy matching, including 101% (order match...</td>\n",
       "      <td>Feature request</td>\n",
       "      <td>0</td>\n",
       "    </tr>\n",
       "    <tr>\n",
       "      <th>1</th>\n",
       "      <td>Scopely</td>\n",
       "      <td>Glossaries (terminology) support</td>\n",
       "      <td>Feature request</td>\n",
       "      <td>0</td>\n",
       "    </tr>\n",
       "    <tr>\n",
       "      <th>2</th>\n",
       "      <td>Scopely</td>\n",
       "      <td>Be able to export and import translations in m...</td>\n",
       "      <td>Feature request</td>\n",
       "      <td>0</td>\n",
       "    </tr>\n",
       "    <tr>\n",
       "      <th>3</th>\n",
       "      <td>Scopely</td>\n",
       "      <td>Be able to read/write from a specific branch v...</td>\n",
       "      <td>Feature request</td>\n",
       "      <td>0</td>\n",
       "    </tr>\n",
       "    <tr>\n",
       "      <th>4</th>\n",
       "      <td>Scopely</td>\n",
       "      <td>More elaborate comments system, with a overvie...</td>\n",
       "      <td>Feature request</td>\n",
       "      <td>0</td>\n",
       "    </tr>\n",
       "  </tbody>\n",
       "</table>\n",
       "</div>"
      ],
      "text/plain": [
       "  Customer Name                                  Customer feedback  \\\n",
       "0       Scopely  TM fuzzy matching, including 101% (order match...   \n",
       "1       Scopely                   Glossaries (terminology) support   \n",
       "2       Scopely  Be able to export and import translations in m...   \n",
       "3       Scopely  Be able to read/write from a specific branch v...   \n",
       "4       Scopely  More elaborate comments system, with a overvie...   \n",
       "\n",
       "     Feedback type  feedback_id  \n",
       "0  Feature request            0  \n",
       "1  Feature request            0  \n",
       "2  Feature request            0  \n",
       "3  Feature request            0  \n",
       "4  Feature request            0  "
      ]
     },
     "metadata": {},
     "execution_count": 2
    }
   ],
   "metadata": {}
  },
  {
   "cell_type": "code",
   "execution_count": 3,
   "source": [
    "import matplotlib.pyplot as plt\r\n",
    "fig = plt.figure(figsize=(8,6))\r\n",
    "df.groupby('Feedback type')['Customer feedback'].count().plot.bar(ylim=0)\r\n",
    "plt.show()"
   ],
   "outputs": [
    {
     "output_type": "display_data",
     "data": {
      "image/png": "[encoded data removed]",
      "text/plain": [
       "<Figure size 576x432 with 1 Axes>"
      ]
     },
     "metadata": {
      "needs_background": "light"
     }
    }
   ],
   "metadata": {}
  },
  {
   "cell_type": "code",
   "execution_count": 4,
   "source": [
    "from sklearn.feature_extraction.text import TfidfVectorizer\r\n",
    "tfidf = TfidfVectorizer(sublinear_tf=True, min_df=5, norm='l2', encoding='latin-1', ngram_range=(1, 2), stop_words='english')\r\n",
    "features = tfidf.fit_transform(df['Customer feedback']).toarray()\r\n",
    "labels = df['feedback_id']\r\n",
    "features.shape"
   ],
   "outputs": [
    {
     "output_type": "execute_result",
     "data": {
      "text/plain": [
       "(255, 74)"
      ]
     },
     "metadata": {},
     "execution_count": 4
    }
   ],
   "metadata": {}
  },
  {
   "cell_type": "code",
   "execution_count": 5,
   "source": [
    "from sklearn.feature_selection import chi2\r\n",
    "import numpy as np\r\n",
    "N = 2\r\n",
    "for feedbackType, feedback_id in sorted(feedback_to_id.items()):\r\n",
    "  features_chi2 = chi2(features, labels == feedback_id)\r\n",
    "  indices = np.argsort(features_chi2[0])\r\n",
    "  feature_names = np.array(tfidf.get_feature_names())[indices]\r\n",
    "  unigrams = [v for v in feature_names if len(v.split(' ')) == 1]\r\n",
    "  bigrams = [v for v in feature_names if len(v.split(' ')) == 2]\r\n",
    "  print(\"# '{}':\".format(feedbackType))\r\n",
    "  print(\"  . Most correlated unigrams:\\n. {}\".format('\\n. '.join(unigrams[-N:])))\r\n",
    "  print(\"  . Most correlated bigrams:\\n. {}\".format('\\n. '.join(bigrams[-N:])))"
   ],
   "outputs": [
    {
     "output_type": "stream",
     "name": "stdout",
     "text": [
      "# 'Bug':\n",
      "  . Most correlated unigrams:\n",
      ". column\n",
      ". columns\n",
      "  . Most correlated bigrams:\n",
      ". google sheets\n",
      ". does gridly\n",
      "# 'Feature request':\n",
      "  . Most correlated unigrams:\n",
      ". want\n",
      ". support\n",
      "  . Most correlated bigrams:\n",
      ". google sheets\n",
      ". version control\n",
      "# 'Negative feedback':\n",
      "  . Most correlated unigrams:\n",
      ". data\n",
      ". upload\n",
      "  . Most correlated bigrams:\n",
      ". google sheets\n",
      ". does gridly\n",
      "# 'Neutral feedbacks':\n",
      "  . Most correlated unigrams:\n",
      ". column\n",
      ". json\n",
      "  . Most correlated bigrams:\n",
      ". google sheets\n",
      ". does gridly\n",
      "# 'Other':\n",
      "  . Most correlated unigrams:\n",
      ". demo\n",
      ". use\n",
      "  . Most correlated bigrams:\n",
      ". does gridly\n",
      ". google sheets\n",
      "# 'Positive feedback':\n",
      "  . Most correlated unigrams:\n",
      ". liked\n",
      ". interested\n",
      "  . Most correlated bigrams:\n",
      ". does gridly\n",
      ". version control\n",
      "# 'Question':\n",
      "  . Most correlated unigrams:\n",
      ". does\n",
      ". file\n",
      "  . Most correlated bigrams:\n",
      ". version control\n",
      ". google sheets\n",
      "# 'Question/Request':\n",
      "  . Most correlated unigrams:\n",
      ". asked\n",
      ". self\n",
      "  . Most correlated bigrams:\n",
      ". google sheets\n",
      ". does gridly\n"
     ]
    }
   ],
   "metadata": {}
  },
  {
   "cell_type": "code",
   "execution_count": 6,
   "source": [
    "from sklearn.model_selection import train_test_split\r\n",
    "from sklearn.feature_extraction.text import CountVectorizer\r\n",
    "from sklearn.feature_extraction.text import TfidfTransformer\r\n",
    "from sklearn.naive_bayes import MultinomialNB\r\n",
    "X_train, X_test, y_train, y_test = train_test_split(df['Customer feedback'], df['Feedback type'], random_state = 0)\r\n",
    "count_vect = CountVectorizer()\r\n",
    "X_train_counts = count_vect.fit_transform(X_train)\r\n",
    "tfidf_transformer = TfidfTransformer()\r\n",
    "X_train_tfidf = tfidf_transformer.fit_transform(X_train_counts)\r\n",
    "clf = MultinomialNB().fit(X_train_tfidf, y_train)"
   ],
   "outputs": [],
   "metadata": {}
  },
  {
   "cell_type": "code",
   "execution_count": 7,
   "source": [
    "print(clf.predict(count_vect.transform([\"\"\"TM fuzzy matching, including 101% (order matching)\"\"\"])))"
   ],
   "outputs": [
    {
     "output_type": "stream",
     "name": "stdout",
     "text": [
      "['Feature request']\n"
     ]
    }
   ],
   "metadata": {}
  },
  {
   "cell_type": "code",
   "execution_count": 8,
   "source": [
    "import pickle\r\n",
    "\r\n",
    "pickleVariable = {\"model\": clf, \"count_vect\": count_vect}\r\n",
    "with open('saved_steps.pkl', 'wb') as file:\r\n",
    "    pickle.dump(pickleVariable, file)\r\n",
    "    \r\n",
    "with open('saved_steps.pkl', 'rb') as file:\r\n",
    "    pickleVariable = pickle.load(file)\r\n",
    "\r\n",
    "model = pickleVariable[\"model\"]\r\n",
    "count_vect = pickleVariable[\"count_vect\"]"
   ],
   "outputs": [],
   "metadata": {}
  },
  {
   "cell_type": "code",
   "execution_count": 9,
   "source": [
    "print(model.predict(count_vect.transform([\"\"\"TM fuzzy matching, including 101% (order matching)\"\"\"])))"
   ],
   "outputs": [
    {
     "output_type": "stream",
     "name": "stdout",
     "text": [
      "['Feature request']\n"
     ]
    }
   ],
   "metadata": {}
  }
 ],
 "metadata": {
  "kernelspec": {
   "name": "python3",
   "display_name": "Python 3.8.5 64-bit ('base': conda)"
  },
  "language_info": {
   "name": "python",
   "version": "3.8.5",
   "mimetype": "text/x-python",
   "codemirror_mode": {
    "name": "ipython",
    "version": 3
   },
   "pygments_lexer": "ipython3",
   "nbconvert_exporter": "python",
   "file_extension": ".py"
  },
  "interpreter": {
   "hash": "cd8ac7ed5329ff1f59a8356dfddf06d159cf18414acbfd7b13d1d5cd1cbb5d7d"
  }
 },
 "nbformat": 4,
 "nbformat_minor": 5
}