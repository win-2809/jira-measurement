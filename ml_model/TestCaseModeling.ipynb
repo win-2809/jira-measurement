{
 "cells": [
  {
   "cell_type": "code",
   "execution_count": 34,
   "source": [
    "import pandas as pd \r\n",
    "import numpy as np\r\n",
    "\r\n",
    "df = pd.read_csv('sample/testcases.csv')\r\n",
    "df.head()"
   ],
   "outputs": [
    {
     "output_type": "execute_result",
     "data": {
      "text/html": [
       "<div>\n",
       "<style scoped>\n",
       "    .dataframe tbody tr th:only-of-type {\n",
       "        vertical-align: middle;\n",
       "    }\n",
       "\n",
       "    .dataframe tbody tr th {\n",
       "        vertical-align: top;\n",
       "    }\n",
       "\n",
       "    .dataframe thead th {\n",
       "        text-align: right;\n",
       "    }\n",
       "</style>\n",
       "<table border=\"1\" class=\"dataframe\">\n",
       "  <thead>\n",
       "    <tr style=\"text-align: right;\">\n",
       "      <th></th>\n",
       "      <th>_pathTag</th>\n",
       "      <th>Test Case Description</th>\n",
       "      <th>Priority</th>\n",
       "      <th>Can Automate</th>\n",
       "      <th>Is Automated</th>\n",
       "      <th>Validation points</th>\n",
       "      <th>Test Step Description</th>\n",
       "    </tr>\n",
       "  </thead>\n",
       "  <tbody>\n",
       "    <tr>\n",
       "      <th>0</th>\n",
       "      <td>NaN</td>\n",
       "      <td>Sign up by email is already in uses</td>\n",
       "      <td>Medium</td>\n",
       "      <td>True</td>\n",
       "      <td>True</td>\n",
       "      <td>NaN</td>\n",
       "      <td>&lt;li&gt;Go to the register page. (https://app.grid...</td>\n",
       "    </tr>\n",
       "    <tr>\n",
       "      <th>1</th>\n",
       "      <td>NaN</td>\n",
       "      <td>Sign up by email is not in the correct format</td>\n",
       "      <td>Medium</td>\n",
       "      <td>False</td>\n",
       "      <td>False</td>\n",
       "      <td>NaN</td>\n",
       "      <td>&lt;li&gt;Go to the register page. (https://app.grid...</td>\n",
       "    </tr>\n",
       "    <tr>\n",
       "      <th>2</th>\n",
       "      <td>NaN</td>\n",
       "      <td>Sign up by company's name is already in use</td>\n",
       "      <td>Medium</td>\n",
       "      <td>False</td>\n",
       "      <td>False</td>\n",
       "      <td>NaN</td>\n",
       "      <td>&lt;p&gt;Go to the register page. (https://app.gridl...</td>\n",
       "    </tr>\n",
       "    <tr>\n",
       "      <th>3</th>\n",
       "      <td>NaN</td>\n",
       "      <td>Sign up by company's name is not yet used</td>\n",
       "      <td>Low</td>\n",
       "      <td>True</td>\n",
       "      <td>False</td>\n",
       "      <td>NaN</td>\n",
       "      <td>&lt;li&gt;Go to the register page. (https://app.grid...</td>\n",
       "    </tr>\n",
       "    <tr>\n",
       "      <th>4</th>\n",
       "      <td>NaN</td>\n",
       "      <td>Sign up by a password less than 4 characters</td>\n",
       "      <td>Low</td>\n",
       "      <td>True</td>\n",
       "      <td>False</td>\n",
       "      <td>NaN</td>\n",
       "      <td>&lt;li&gt;Go to the register page. (https://app.grid...</td>\n",
       "    </tr>\n",
       "  </tbody>\n",
       "</table>\n",
       "</div>"
      ],
      "text/plain": [
       "  _pathTag                          Test Case Description Priority  \\\n",
       "0      NaN            Sign up by email is already in uses   Medium   \n",
       "1      NaN  Sign up by email is not in the correct format   Medium   \n",
       "2      NaN    Sign up by company's name is already in use   Medium   \n",
       "3      NaN      Sign up by company's name is not yet used      Low   \n",
       "4      NaN   Sign up by a password less than 4 characters      Low   \n",
       "\n",
       "  Can Automate Is Automated Validation points  \\\n",
       "0         True         True               NaN   \n",
       "1        False        False               NaN   \n",
       "2        False        False               NaN   \n",
       "3         True        False               NaN   \n",
       "4         True        False               NaN   \n",
       "\n",
       "                               Test Step Description  \n",
       "0  <li>Go to the register page. (https://app.grid...  \n",
       "1  <li>Go to the register page. (https://app.grid...  \n",
       "2  <p>Go to the register page. (https://app.gridl...  \n",
       "3  <li>Go to the register page. (https://app.grid...  \n",
       "4  <li>Go to the register page. (https://app.grid...  "
      ]
     },
     "metadata": {},
     "execution_count": 34
    }
   ],
   "metadata": {}
  },
  {
   "cell_type": "code",
   "execution_count": 35,
   "source": [
    "drop_list = ['Priority', 'Can Automate', 'Is Automated', 'Validation points', 'Test Step Description']\r\n",
    "df = df.drop(columns=drop_list)\r\n",
    "df = df.dropna()\r\n",
    "df['pathTag_id'] = df['_pathTag'].factorize()[0]\r\n",
    "pathTag_id_df = df[['_pathTag', 'pathTag_id']].drop_duplicates().sort_values('pathTag_id')\r\n",
    "pathTag_to_id = dict(pathTag_id_df.values)\r\n",
    "id_to_pathTag = dict(pathTag_id_df[['pathTag_id', '_pathTag']].values)\r\n",
    "df.head()"
   ],
   "outputs": [
    {
     "output_type": "execute_result",
     "data": {
      "text/html": [
       "<div>\n",
       "<style scoped>\n",
       "    .dataframe tbody tr th:only-of-type {\n",
       "        vertical-align: middle;\n",
       "    }\n",
       "\n",
       "    .dataframe tbody tr th {\n",
       "        vertical-align: top;\n",
       "    }\n",
       "\n",
       "    .dataframe thead th {\n",
       "        text-align: right;\n",
       "    }\n",
       "</style>\n",
       "<table border=\"1\" class=\"dataframe\">\n",
       "  <thead>\n",
       "    <tr style=\"text-align: right;\">\n",
       "      <th></th>\n",
       "      <th>_pathTag</th>\n",
       "      <th>Test Case Description</th>\n",
       "      <th>pathTag_id</th>\n",
       "    </tr>\n",
       "  </thead>\n",
       "  <tbody>\n",
       "    <tr>\n",
       "      <th>93</th>\n",
       "      <td>Permission</td>\n",
       "      <td>Verify 'Owner' can create a project</td>\n",
       "      <td>0</td>\n",
       "    </tr>\n",
       "    <tr>\n",
       "      <th>94</th>\n",
       "      <td>Permission</td>\n",
       "      <td>Verify 'Owner' can rename a project</td>\n",
       "      <td>0</td>\n",
       "    </tr>\n",
       "    <tr>\n",
       "      <th>95</th>\n",
       "      <td>Permission</td>\n",
       "      <td>Verify 'Owner' can delete a project</td>\n",
       "      <td>0</td>\n",
       "    </tr>\n",
       "    <tr>\n",
       "      <th>96</th>\n",
       "      <td>Project</td>\n",
       "      <td>View information (Name , Description, Author, ...</td>\n",
       "      <td>1</td>\n",
       "    </tr>\n",
       "    <tr>\n",
       "      <th>97</th>\n",
       "      <td>Project</td>\n",
       "      <td>Edit description of workspace in about</td>\n",
       "      <td>1</td>\n",
       "    </tr>\n",
       "  </tbody>\n",
       "</table>\n",
       "</div>"
      ],
      "text/plain": [
       "      _pathTag                              Test Case Description  pathTag_id\n",
       "93  Permission                Verify 'Owner' can create a project           0\n",
       "94  Permission                Verify 'Owner' can rename a project           0\n",
       "95  Permission                Verify 'Owner' can delete a project           0\n",
       "96     Project  View information (Name , Description, Author, ...           1\n",
       "97     Project             Edit description of workspace in about           1"
      ]
     },
     "metadata": {},
     "execution_count": 35
    }
   ],
   "metadata": {}
  },
  {
   "cell_type": "code",
   "execution_count": 36,
   "source": [
    "import matplotlib.pyplot as plt\r\n",
    "fig = plt.figure(figsize=(8,6))\r\n",
    "df.groupby('_pathTag')['Test Case Description'].count().plot.bar(ylim=0)\r\n",
    "plt.show()"
   ],
   "outputs": [
    {
     "output_type": "display_data",
     "data": {
      "image/png": "[encoded data removed]",
      "text/plain": [
       "<Figure size 576x432 with 1 Axes>"
      ]
     },
     "metadata": {
      "needs_background": "light"
     }
    }
   ],
   "metadata": {}
  },
  {
   "cell_type": "code",
   "execution_count": 37,
   "source": [
    "def shorten_categories(categories, cutoff):\r\n",
    "    categorical_map = {}\r\n",
    "    for i in range(len(categories)):\r\n",
    "        if categories.values[i] >= cutoff:\r\n",
    "            categorical_map[categories.index[i]] = categories.index[i]\r\n",
    "        else:\r\n",
    "            categorical_map[categories.index[i]] = 'Other'\r\n",
    "    return categorical_map"
   ],
   "outputs": [],
   "metadata": {}
  },
  {
   "cell_type": "code",
   "execution_count": 38,
   "source": [
    "country_map = shorten_categories(df['_pathTag'].value_counts(), 30)\r\n",
    "df['_pathTag'] = df['_pathTag'].map(country_map)\r\n",
    "df['_pathTag'].value_counts()"
   ],
   "outputs": [
    {
     "output_type": "execute_result",
     "data": {
      "text/plain": [
       "Grid/Column        290\n",
       "Permission         209\n",
       "Public API         138\n",
       "Other              133\n",
       "Grid/Dependency    122\n",
       "Project             86\n",
       "Grid/Filter         68\n",
       "Grid/Sort           45\n",
       "TM                  37\n",
       "Grid/View           37\n",
       "Name: _pathTag, dtype: int64"
      ]
     },
     "metadata": {},
     "execution_count": 38
    }
   ],
   "metadata": {}
  },
  {
   "cell_type": "code",
   "execution_count": 39,
   "source": [
    "from sklearn.feature_extraction.text import TfidfVectorizer\r\n",
    "tfidf = TfidfVectorizer(sublinear_tf=True, min_df=5, norm='l2', encoding='latin-1', ngram_range=(1, 2), stop_words='english')\r\n",
    "features = tfidf.fit_transform(df['Test Case Description']).toarray()\r\n",
    "labels = df['pathTag_id']\r\n",
    "features.shape"
   ],
   "outputs": [
    {
     "output_type": "execute_result",
     "data": {
      "text/plain": [
       "(1165, 329)"
      ]
     },
     "metadata": {},
     "execution_count": 39
    }
   ],
   "metadata": {}
  },
  {
   "cell_type": "code",
   "execution_count": 40,
   "source": [
    "from sklearn.feature_selection import chi2\r\n",
    "import numpy as np\r\n",
    "N = 2\r\n",
    "for feedbackType, pathTag_id in sorted(pathTag_to_id.items()):\r\n",
    "  features_chi2 = chi2(features, labels == pathTag_id)\r\n",
    "  indices = np.argsort(features_chi2[0])\r\n",
    "  feature_names = np.array(tfidf.get_feature_names())[indices]\r\n",
    "  unigrams = [v for v in feature_names if len(v.split(' ')) == 1]\r\n",
    "  bigrams = [v for v in feature_names if len(v.split(' ')) == 2]\r\n",
    "  print(\"# '{}':\".format(feedbackType))\r\n",
    "  print(\"  . Most correlated unigrams:\\n. {}\".format('\\n. '.join(unigrams[-N:])))\r\n",
    "  print(\"  . Most correlated bigrams:\\n. {}\".format('\\n. '.join(bigrams[-N:])))"
   ],
   "outputs": [
    {
     "output_type": "stream",
     "name": "stdout",
     "text": [
      "# 'Grid/Column':\n",
      "  . Most correlated unigrams:\n",
      ". type\n",
      ". copy\n",
      "  . Most correlated bigrams:\n",
      ". column data\n",
      ". copy column\n",
      "# 'Grid/Comment':\n",
      "  . Most correlated unigrams:\n",
      ". cell\n",
      ". comment\n",
      "  . Most correlated bigrams:\n",
      ". delete comment\n",
      ". comment cell\n",
      "# 'Grid/Dependency':\n",
      "  . Most correlated unigrams:\n",
      ". new\n",
      ". dependency\n",
      "  . Most correlated bigrams:\n",
      ". dependency column\n",
      ". new dependency\n",
      "# 'Grid/Filter':\n",
      "  . Most correlated unigrams:\n",
      ". filter\n",
      ". condition\n",
      "  . Most correlated bigrams:\n",
      ". add filter\n",
      ". filter column\n",
      "# 'Grid/Freeze':\n",
      "  . Most correlated unigrams:\n",
      ". single\n",
      ". multiple\n",
      "  . Most correlated bigrams:\n",
      ". single column\n",
      ". multiple column\n",
      "# 'Grid/Grid History':\n",
      "  . Most correlated unigrams:\n",
      ". changes\n",
      ". history\n",
      "  . Most correlated bigrams:\n",
      ". grid history\n",
      ". sort grid\n",
      "# 'Grid/Path tag':\n",
      "  . Most correlated unigrams:\n",
      ". tag\n",
      ". path\n",
      "  . Most correlated bigrams:\n",
      ". owner edit\n",
      ". path tag\n",
      "# 'Grid/Record History':\n",
      "  . Most correlated unigrams:\n",
      ". record\n",
      ". history\n",
      "  . Most correlated bigrams:\n",
      ". data type\n",
      ". single record\n",
      "# 'Grid/Row':\n",
      "  . Most correlated unigrams:\n",
      ". record\n",
      ". row\n",
      "  . Most correlated bigrams:\n",
      ". data record\n",
      ". single row\n",
      "# 'Grid/Row Height':\n",
      "  . Most correlated unigrams:\n",
      ". wrapping\n",
      ". rows\n",
      "  . Most correlated bigrams:\n",
      ". wrapping multiple\n",
      ". multiple rows\n",
      "# 'Grid/Sort':\n",
      "  . Most correlated unigrams:\n",
      ". quick\n",
      ". sort\n",
      "  . Most correlated bigrams:\n",
      ". sort column\n",
      ". add sort\n",
      "# 'Grid/Upload Folder':\n",
      "  . Most correlated unigrams:\n",
      ". file\n",
      ". upload\n",
      "  . Most correlated bigrams:\n",
      ". column data\n",
      ". data type\n",
      "# 'Grid/View':\n",
      "  . Most correlated unigrams:\n",
      ". set\n",
      ". view\n",
      "  . Most correlated bigrams:\n",
      ". view data\n",
      ". set view\n",
      "# 'Import-Export':\n",
      "  . Most correlated unigrams:\n",
      ". csv\n",
      ". export\n",
      "  . Most correlated bigrams:\n",
      ". target language\n",
      ". csv file\n",
      "# 'Localization':\n",
      "  . Most correlated unigrams:\n",
      ". file\n",
      ". export\n",
      "  . Most correlated bigrams:\n",
      ". create column\n",
      ". admin export\n",
      "# 'Permission':\n",
      "  . Most correlated unigrams:\n",
      ". verify\n",
      ". database\n",
      "  . Most correlated bigrams:\n",
      ". verify creator\n",
      ". owner filter\n",
      "# 'Project':\n",
      "  . Most correlated unigrams:\n",
      ". role\n",
      ". member\n",
      "  . Most correlated bigrams:\n",
      ". member input\n",
      ". filter member\n",
      "# 'Public API':\n",
      "  . Most correlated unigrams:\n",
      ". public\n",
      ". api\n",
      "  . Most correlated bigrams:\n",
      ". owner sort\n",
      ". public api\n",
      "# 'TM':\n",
      "  . Most correlated unigrams:\n",
      ". tms\n",
      ". tm\n",
      "  . Most correlated bigrams:\n",
      ". verify tm\n",
      ". grant tm\n"
     ]
    }
   ],
   "metadata": {}
  },
  {
   "cell_type": "code",
   "execution_count": 41,
   "source": [
    "from sklearn.linear_model import LogisticRegression\r\n",
    "from sklearn.ensemble import RandomForestClassifier\r\n",
    "from sklearn.svm import LinearSVC\r\n",
    "from sklearn.naive_bayes import MultinomialNB\r\n",
    "from sklearn.model_selection import cross_val_score\r\n",
    "models = [\r\n",
    "    RandomForestClassifier(n_estimators=200, max_depth=3, random_state=0),\r\n",
    "    LinearSVC(),\r\n",
    "    MultinomialNB(),\r\n",
    "    LogisticRegression(random_state=0),\r\n",
    "]\r\n",
    "CV = 5\r\n",
    "cv_df = pd.DataFrame(index=range(CV * len(models)))\r\n",
    "entries = []\r\n",
    "for model in models:\r\n",
    "  model_name = model.__class__.__name__\r\n",
    "  accuracies = cross_val_score(model, features, labels, scoring='accuracy', cv=CV)\r\n",
    "  for fold_idx, accuracy in enumerate(accuracies):\r\n",
    "    entries.append((model_name, fold_idx, accuracy))\r\n",
    "cv_df = pd.DataFrame(entries, columns=['model_name', 'fold_idx', 'accuracy'])\r\n",
    "import seaborn as sns\r\n",
    "sns.boxplot(x='model_name', y='accuracy', data=cv_df)\r\n",
    "sns.stripplot(x='model_name', y='accuracy', data=cv_df, \r\n",
    "              size=8, jitter=True, edgecolor=\"gray\", linewidth=2)\r\n",
    "plt.show()"
   ],
   "outputs": [
    {
     "output_type": "stream",
     "name": "stderr",
     "text": [
      "C:\\Users\\DELL\\anaconda3\\lib\\site-packages\\sklearn\\model_selection\\_split.py:670: UserWarning: The least populated class in y has only 1 members, which is less than n_splits=5.\n",
      "  warnings.warn((\"The least populated class in y has only %d\"\n",
      "C:\\Users\\DELL\\anaconda3\\lib\\site-packages\\sklearn\\model_selection\\_split.py:670: UserWarning: The least populated class in y has only 1 members, which is less than n_splits=5.\n",
      "  warnings.warn((\"The least populated class in y has only %d\"\n",
      "C:\\Users\\DELL\\anaconda3\\lib\\site-packages\\sklearn\\model_selection\\_split.py:670: UserWarning: The least populated class in y has only 1 members, which is less than n_splits=5.\n",
      "  warnings.warn((\"The least populated class in y has only %d\"\n",
      "C:\\Users\\DELL\\anaconda3\\lib\\site-packages\\sklearn\\model_selection\\_split.py:670: UserWarning: The least populated class in y has only 1 members, which is less than n_splits=5.\n",
      "  warnings.warn((\"The least populated class in y has only %d\"\n"
     ]
    },
    {
     "output_type": "display_data",
     "data": {
      "image/png": "[encoded data removed]",
      "text/plain": [
       "<Figure size 432x288 with 1 Axes>"
      ]
     },
     "metadata": {
      "needs_background": "light"
     }
    }
   ],
   "metadata": {}
  },
  {
   "cell_type": "code",
   "execution_count": 42,
   "source": [
    "cv_df.groupby('model_name').accuracy.mean()"
   ],
   "outputs": [
    {
     "output_type": "execute_result",
     "data": {
      "text/plain": [
       "model_name\n",
       "LinearSVC                 0.895279\n",
       "LogisticRegression        0.848927\n",
       "MultinomialNB             0.769957\n",
       "RandomForestClassifier    0.645494\n",
       "Name: accuracy, dtype: float64"
      ]
     },
     "metadata": {},
     "execution_count": 42
    }
   ],
   "metadata": {}
  },
  {
   "cell_type": "code",
   "execution_count": 43,
   "source": [
    "from sklearn.model_selection import train_test_split\r\n",
    "from sklearn.feature_extraction.text import CountVectorizer\r\n",
    "from sklearn.feature_extraction.text import TfidfTransformer\r\n",
    "X_train, X_test, y_train, y_test = train_test_split(df['Test Case Description'], df['_pathTag'], random_state = 0)\r\n",
    "count_vect = CountVectorizer()\r\n",
    "X_train_counts = count_vect.fit_transform(X_train)\r\n",
    "tfidf_transformer = TfidfTransformer()\r\n",
    "X_train_tfidf = tfidf_transformer.fit_transform(X_train_counts)\r\n",
    "clf = LinearSVC().fit(X_train_tfidf, y_train)"
   ],
   "outputs": [],
   "metadata": {}
  },
  {
   "cell_type": "code",
   "execution_count": 44,
   "source": [
    "print(clf.predict(count_vect.transform([\"\"\"Verify user can use quick sort a-z for column 'Number'\"\"\"])))"
   ],
   "outputs": [
    {
     "output_type": "stream",
     "name": "stdout",
     "text": [
      "['Grid/Sort']\n"
     ]
    }
   ],
   "metadata": {}
  },
  {
   "cell_type": "code",
   "execution_count": 45,
   "source": [
    "import pickle\r\n",
    "\r\n",
    "pickleVariable = {\"model\": clf, \"count_vect\": count_vect}\r\n",
    "with open('testCasesClassification.pkl', 'wb') as file:\r\n",
    "    pickle.dump(pickleVariable, file)\r\n",
    "    \r\n",
    "with open('testCasesClassification.pkl', 'rb') as file:\r\n",
    "    pickleVariable = pickle.load(file)\r\n",
    "\r\n",
    "model = pickleVariable[\"model\"]\r\n",
    "count_vect = pickleVariable[\"count_vect\"]"
   ],
   "outputs": [],
   "metadata": {}
  },
  {
   "cell_type": "code",
   "execution_count": 46,
   "source": [
    "print(model.predict(count_vect.transform([\"\"\"TM fuzzy matching, including 101% (order matching)\"\"\"])))"
   ],
   "outputs": [
    {
     "output_type": "stream",
     "name": "stdout",
     "text": [
      "['TM']\n"
     ]
    }
   ],
   "metadata": {}
  }
 ],
 "metadata": {
  "kernelspec": {
   "name": "python3",
   "display_name": "Python 3.8.5 64-bit ('base': conda)"
  },
  "language_info": {
   "name": "python",
   "version": "3.8.5",
   "mimetype": "text/x-python",
   "codemirror_mode": {
    "name": "ipython",
    "version": 3
   },
   "pygments_lexer": "ipython3",
   "nbconvert_exporter": "python",
   "file_extension": ".py"
  },
  "interpreter": {
   "hash": "cd8ac7ed5329ff1f59a8356dfddf06d159cf18414acbfd7b13d1d5cd1cbb5d7d"
  }
 },
 "nbformat": 4,
 "nbformat_minor": 5
}